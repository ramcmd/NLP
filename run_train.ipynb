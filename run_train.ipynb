{
  "cells": [
    {
      "cell_type": "code",
      "execution_count": 1,
      "metadata": {
        "id": "Dhkjm4p2c94E"
      },
      "outputs": [],
      "source": [
        "%%capture\n",
        "\n",
        "!wget https://raw.githubusercontent.com/ipavlopoulos/toxic_spans/master/SemEval2021/data/tsd_test.csv\n",
        "!wget https://raw.githubusercontent.com/ipavlopoulos/toxic_spans/master/SemEval2021/data/tsd_train.csv\n",
        "\n",
        "! pip install -r requirements.txt"
      ]
    },
    {
      "cell_type": "code",
      "execution_count": 2,
      "metadata": {
        "colab": {
          "base_uri": "https://localhost:8080/"
        },
        "id": "A3rVOuznDPzO",
        "outputId": "8c94bce0-8eb4-48db-fdde-6cb1e3be478e"
      },
      "outputs": [
        {
          "name": "stdout",
          "output_type": "stream",
          "text": [
            "Mounted at /content/drive\n"
          ]
        }
      ],
      "source": [
        "from google.colab import drive\n",
        "drive.mount('/content/drive')"
      ]
    },
    {
      "cell_type": "markdown",
      "metadata": {
        "id": "e9ln9xB8qWPj"
      },
      "source": [
        "## Loading Libraries"
      ]
    },
    {
      "cell_type": "code",
      "execution_count": 3,
      "metadata": {
        "id": "wetGuHv3pz59"
      },
      "outputs": [],
      "source": [
        "# Basic Libraries\n",
        "import pandas as pd\n",
        "import numpy as np\n",
        "import json\n",
        "import gc\n",
        "\n",
        "# Tensorflow modules\n",
        "from tensorflow.keras import *\n",
        "import tensorflow as tf\n",
        "from tensorflow.keras import *\n",
        "import tensorflow.keras.backend as K\n",
        "\n",
        "# Transformer module\n",
        "from transformers import TFElectraModel, ElectraTokenizer\n",
        "\n",
        "# Result Visualization\n",
        "from sklearn.metrics import classification_report\n",
        "from sklearn.model_selection import KFold\n",
        "from keras import callbacks\n"
      ]
    },
    {
      "cell_type": "markdown",
      "metadata": {
        "id": "ZEaJQS0-q7wr"
      },
      "source": [
        "## Load dataset\n"
      ]
    },
    {
      "cell_type": "code",
      "execution_count": 4,
      "metadata": {
        "colab": {
          "base_uri": "https://localhost:8080/",
          "height": 502
        },
        "id": "bwPzsegWqytY",
        "outputId": "70f88cd6-2ebe-45b4-e38b-4d7bc4e5829f"
      },
      "outputs": [
        {
          "data": {
            "text/html": [
              "\n",
              "  <div id=\"df-ef2a2494-11b6-4a53-bfa2-f9864f21566c\">\n",
              "    <div class=\"colab-df-container\">\n",
              "      <div>\n",
              "<style scoped>\n",
              "    .dataframe tbody tr th:only-of-type {\n",
              "        vertical-align: middle;\n",
              "    }\n",
              "\n",
              "    .dataframe tbody tr th {\n",
              "        vertical-align: top;\n",
              "    }\n",
              "\n",
              "    .dataframe thead th {\n",
              "        text-align: right;\n",
              "    }\n",
              "</style>\n",
              "<table border=\"1\" class=\"dataframe\">\n",
              "  <thead>\n",
              "    <tr style=\"text-align: right;\">\n",
              "      <th></th>\n",
              "      <th>spans</th>\n",
              "      <th>text</th>\n",
              "    </tr>\n",
              "  </thead>\n",
              "  <tbody>\n",
              "    <tr>\n",
              "      <th>0</th>\n",
              "      <td>[8, 9, 10, 11, 12, 13, 14, 15, 16, 17, 18, 19,...</td>\n",
              "      <td>Another violent and aggressive immigrant killi...</td>\n",
              "    </tr>\n",
              "    <tr>\n",
              "      <th>1</th>\n",
              "      <td>[33, 34, 35, 36, 37, 38, 39]</td>\n",
              "      <td>I am 56 years old, I am not your fucking junio...</td>\n",
              "    </tr>\n",
              "    <tr>\n",
              "      <th>2</th>\n",
              "      <td>[0, 1, 2, 3]</td>\n",
              "      <td>Damn, a whole family. Sad indeed.</td>\n",
              "    </tr>\n",
              "    <tr>\n",
              "      <th>3</th>\n",
              "      <td>[7, 8, 9, 10, 11, 12, 13, 14, 15, 16, 17]</td>\n",
              "      <td>What a knucklehead. How can anyone not know th...</td>\n",
              "    </tr>\n",
              "    <tr>\n",
              "      <th>4</th>\n",
              "      <td>[32, 33, 34, 35, 36, 37, 38]</td>\n",
              "      <td>\"who do you think should do the killing?\"\\n\\nA...</td>\n",
              "    </tr>\n",
              "    <tr>\n",
              "      <th>...</th>\n",
              "      <td>...</td>\n",
              "      <td>...</td>\n",
              "    </tr>\n",
              "    <tr>\n",
              "      <th>7934</th>\n",
              "      <td>[8, 9, 10, 11]</td>\n",
              "      <td>Another fool pipes in.</td>\n",
              "    </tr>\n",
              "    <tr>\n",
              "      <th>7935</th>\n",
              "      <td>[48, 49, 50, 51, 52, 53, 54, 55, 56, 57, 58, 5...</td>\n",
              "      <td>So if a restaurant owner puts up a sign saying...</td>\n",
              "    </tr>\n",
              "    <tr>\n",
              "      <th>7936</th>\n",
              "      <td>[0, 1, 2, 3, 4, 5, 6, 7, 8, 9, 10, 11, 12, 13,...</td>\n",
              "      <td>Any faith that can't stand up to logic and rea...</td>\n",
              "    </tr>\n",
              "    <tr>\n",
              "      <th>7937</th>\n",
              "      <td>[5, 6, 7, 8, 9, 10, 11]</td>\n",
              "      <td>This idiotic. Use the surplus to pay down the ...</td>\n",
              "    </tr>\n",
              "    <tr>\n",
              "      <th>7938</th>\n",
              "      <td>[106, 107, 108, 109, 110, 169, 170, 171, 172, ...</td>\n",
              "      <td>Who is this \"we\" of which you speak? Are you r...</td>\n",
              "    </tr>\n",
              "  </tbody>\n",
              "</table>\n",
              "<p>7939 rows × 2 columns</p>\n",
              "</div>\n",
              "      <button class=\"colab-df-convert\" onclick=\"convertToInteractive('df-ef2a2494-11b6-4a53-bfa2-f9864f21566c')\"\n",
              "              title=\"Convert this dataframe to an interactive table.\"\n",
              "              style=\"display:none;\">\n",
              "        \n",
              "  <svg xmlns=\"http://www.w3.org/2000/svg\" height=\"24px\"viewBox=\"0 0 24 24\"\n",
              "       width=\"24px\">\n",
              "    <path d=\"M0 0h24v24H0V0z\" fill=\"none\"/>\n",
              "    <path d=\"M18.56 5.44l.94 2.06.94-2.06 2.06-.94-2.06-.94-.94-2.06-.94 2.06-2.06.94zm-11 1L8.5 8.5l.94-2.06 2.06-.94-2.06-.94L8.5 2.5l-.94 2.06-2.06.94zm10 10l.94 2.06.94-2.06 2.06-.94-2.06-.94-.94-2.06-.94 2.06-2.06.94z\"/><path d=\"M17.41 7.96l-1.37-1.37c-.4-.4-.92-.59-1.43-.59-.52 0-1.04.2-1.43.59L10.3 9.45l-7.72 7.72c-.78.78-.78 2.05 0 2.83L4 21.41c.39.39.9.59 1.41.59.51 0 1.02-.2 1.41-.59l7.78-7.78 2.81-2.81c.8-.78.8-2.07 0-2.86zM5.41 20L4 18.59l7.72-7.72 1.47 1.35L5.41 20z\"/>\n",
              "  </svg>\n",
              "      </button>\n",
              "      \n",
              "  <style>\n",
              "    .colab-df-container {\n",
              "      display:flex;\n",
              "      flex-wrap:wrap;\n",
              "      gap: 12px;\n",
              "    }\n",
              "\n",
              "    .colab-df-convert {\n",
              "      background-color: #E8F0FE;\n",
              "      border: none;\n",
              "      border-radius: 50%;\n",
              "      cursor: pointer;\n",
              "      display: none;\n",
              "      fill: #1967D2;\n",
              "      height: 32px;\n",
              "      padding: 0 0 0 0;\n",
              "      width: 32px;\n",
              "    }\n",
              "\n",
              "    .colab-df-convert:hover {\n",
              "      background-color: #E2EBFA;\n",
              "      box-shadow: 0px 1px 2px rgba(60, 64, 67, 0.3), 0px 1px 3px 1px rgba(60, 64, 67, 0.15);\n",
              "      fill: #174EA6;\n",
              "    }\n",
              "\n",
              "    [theme=dark] .colab-df-convert {\n",
              "      background-color: #3B4455;\n",
              "      fill: #D2E3FC;\n",
              "    }\n",
              "\n",
              "    [theme=dark] .colab-df-convert:hover {\n",
              "      background-color: #434B5C;\n",
              "      box-shadow: 0px 1px 3px 1px rgba(0, 0, 0, 0.15);\n",
              "      filter: drop-shadow(0px 1px 2px rgba(0, 0, 0, 0.3));\n",
              "      fill: #FFFFFF;\n",
              "    }\n",
              "  </style>\n",
              "\n",
              "      <script>\n",
              "        const buttonEl =\n",
              "          document.querySelector('#df-ef2a2494-11b6-4a53-bfa2-f9864f21566c button.colab-df-convert');\n",
              "        buttonEl.style.display =\n",
              "          google.colab.kernel.accessAllowed ? 'block' : 'none';\n",
              "\n",
              "        async function convertToInteractive(key) {\n",
              "          const element = document.querySelector('#df-ef2a2494-11b6-4a53-bfa2-f9864f21566c');\n",
              "          const dataTable =\n",
              "            await google.colab.kernel.invokeFunction('convertToInteractive',\n",
              "                                                     [key], {});\n",
              "          if (!dataTable) return;\n",
              "\n",
              "          const docLinkHtml = 'Like what you see? Visit the ' +\n",
              "            '<a target=\"_blank\" href=https://colab.research.google.com/notebooks/data_table.ipynb>data table notebook</a>'\n",
              "            + ' to learn more about interactive tables.';\n",
              "          element.innerHTML = '';\n",
              "          dataTable['output_type'] = 'display_data';\n",
              "          await google.colab.output.renderOutput(dataTable, element);\n",
              "          const docLink = document.createElement('div');\n",
              "          docLink.innerHTML = docLinkHtml;\n",
              "          element.appendChild(docLink);\n",
              "        }\n",
              "      </script>\n",
              "    </div>\n",
              "  </div>\n",
              "  "
            ],
            "text/plain": [
              "                                                  spans  \\\n",
              "0     [8, 9, 10, 11, 12, 13, 14, 15, 16, 17, 18, 19,...   \n",
              "1                          [33, 34, 35, 36, 37, 38, 39]   \n",
              "2                                          [0, 1, 2, 3]   \n",
              "3             [7, 8, 9, 10, 11, 12, 13, 14, 15, 16, 17]   \n",
              "4                          [32, 33, 34, 35, 36, 37, 38]   \n",
              "...                                                 ...   \n",
              "7934                                     [8, 9, 10, 11]   \n",
              "7935  [48, 49, 50, 51, 52, 53, 54, 55, 56, 57, 58, 5...   \n",
              "7936  [0, 1, 2, 3, 4, 5, 6, 7, 8, 9, 10, 11, 12, 13,...   \n",
              "7937                            [5, 6, 7, 8, 9, 10, 11]   \n",
              "7938  [106, 107, 108, 109, 110, 169, 170, 171, 172, ...   \n",
              "\n",
              "                                                   text  \n",
              "0     Another violent and aggressive immigrant killi...  \n",
              "1     I am 56 years old, I am not your fucking junio...  \n",
              "2                     Damn, a whole family. Sad indeed.  \n",
              "3     What a knucklehead. How can anyone not know th...  \n",
              "4     \"who do you think should do the killing?\"\\n\\nA...  \n",
              "...                                                 ...  \n",
              "7934                             Another fool pipes in.  \n",
              "7935  So if a restaurant owner puts up a sign saying...  \n",
              "7936  Any faith that can't stand up to logic and rea...  \n",
              "7937  This idiotic. Use the surplus to pay down the ...  \n",
              "7938  Who is this \"we\" of which you speak? Are you r...  \n",
              "\n",
              "[7939 rows x 2 columns]"
            ]
          },
          "execution_count": 4,
          "metadata": {},
          "output_type": "execute_result"
        }
      ],
      "source": [
        "# Training\n",
        "train_dataset = pd.read_csv('tsd_train.csv')\n",
        "\n",
        "train_dataset"
      ]
    },
    {
      "cell_type": "code",
      "execution_count": 5,
      "metadata": {
        "id": "qp4EqbtWs2cR"
      },
      "outputs": [],
      "source": [
        "# Creating python dictionary from json string for spans\n",
        "train_dataset['spans'] = train_dataset['spans'].apply(lambda x : json.loads(x))\n",
        "\n",
        "# Converting spans to numpy\n",
        "spans = train_dataset['spans'].to_numpy()\n",
        "\n",
        "# Converting texts to numpy\n",
        "texts = train_dataset['text'].to_numpy()"
      ]
    },
    {
      "cell_type": "code",
      "execution_count": 6,
      "metadata": {
        "colab": {
          "base_uri": "https://localhost:8080/"
        },
        "id": "ON3BZ5WRZoNd",
        "outputId": "fcc8733e-a6dd-42c7-8526-b7e219c1d56e"
      },
      "outputs": [
        {
          "name": "stderr",
          "output_type": "stream",
          "text": [
            "/usr/local/lib/python3.10/dist-packages/tensorflow_addons/utils/tfa_eol_msg.py:23: UserWarning: \n",
            "\n",
            "TensorFlow Addons (TFA) has ended development and introduction of new features.\n",
            "TFA has entered a minimal maintenance and release mode until a planned end of life in May 2024.\n",
            "Please modify downstream libraries to take dependencies from other repositories in our TensorFlow community (e.g. Keras, Keras-CV, and Keras-NLP). \n",
            "\n",
            "For more information see: https://github.com/tensorflow/addons/issues/2807 \n",
            "\n",
            "  warnings.warn(\n"
          ]
        }
      ],
      "source": [
        "from crf import *"
      ]
    },
    {
      "cell_type": "markdown",
      "metadata": {
        "id": "skwbLAiV4Z6d"
      },
      "source": [
        "## Tokenize Using Electra"
      ]
    },
    {
      "cell_type": "code",
      "execution_count": 7,
      "metadata": {
        "colab": {
          "base_uri": "https://localhost:8080/",
          "height": 197,
          "referenced_widgets": [
            "6995d61dc180413f815684adb857389e",
            "341143162ac54f1299b44aa177d699fb",
            "68750403990f435c8480ce7cb7f1006d",
            "d8c2c0d1af914253aea8bde54b1e8b12",
            "92023666ee7e43d785731c06691c1515",
            "1014dddeabf348e4bc295bb3f2352d98",
            "ee677295e46e462f9e82f629c5c8ae62",
            "5bb6e525c541426597f9d87c1cb4325f",
            "763cee7c4b704848afbb9a567290a430",
            "3928d78e786c4f179f9c72e70ec106b1",
            "285f6fb48cf44e65ba728929d8904d7f",
            "b3e68f86d0a546759d1f3ea54b379c2d",
            "a755b205d09b45378a1fe882d3a105b0",
            "9c7b2aeeb3084774bab50d8abd062fba",
            "6afcfb2757ee40cb8c36993cf351fdee",
            "d5b2191b4bc54975ae2b410b6a73b110",
            "230a217cc53a4bf5ad1e3fe0481c1982",
            "455883b523f54366ba360311045611b0",
            "ec916531d6f94c849e5ff44d49daa1cd",
            "7950d67f941b4eb8a5bc427c4065fe57",
            "790a1b3de7a94de8a73e9fbb03ce9edd",
            "0ad277c9147d49909c8eaddda3d4f724",
            "e56bc846df5c4446bf95f980ecfa8ea3",
            "4db56124a81e4755a0df44ce42a9249d",
            "af4fe33d23264864949ac277bf6efce2",
            "0b0db32772874c21b18df37b37fa2498",
            "2cf47b71aef14780b50aa0ef9ea91d43",
            "ff47c5ddb8a345a6a38aec882d3ac1aa",
            "10dc39622d8c4d8593088651d6f30bce",
            "21f3ed55f70048f8b83001d06c2079df",
            "effac7312a324224ae5922f3aace58ae",
            "f533b3b6be994ababd7a18ba9346efab",
            "714084b8c9b9408c81373aa722410119"
          ]
        },
        "id": "7JLyGGPn5aKh",
        "outputId": "ecff8f15-0f1a-42ec-d2de-bf1887a840ea"
      },
      "outputs": [
        {
          "data": {
            "application/vnd.jupyter.widget-view+json": {
              "model_id": "6995d61dc180413f815684adb857389e",
              "version_major": 2,
              "version_minor": 0
            },
            "text/plain": [
              "Downloading (…)solve/main/vocab.txt:   0%|          | 0.00/232k [00:00<?, ?B/s]"
            ]
          },
          "metadata": {},
          "output_type": "display_data"
        },
        {
          "data": {
            "application/vnd.jupyter.widget-view+json": {
              "model_id": "b3e68f86d0a546759d1f3ea54b379c2d",
              "version_major": 2,
              "version_minor": 0
            },
            "text/plain": [
              "Downloading (…)okenizer_config.json:   0%|          | 0.00/27.0 [00:00<?, ?B/s]"
            ]
          },
          "metadata": {},
          "output_type": "display_data"
        },
        {
          "data": {
            "application/vnd.jupyter.widget-view+json": {
              "model_id": "e56bc846df5c4446bf95f980ecfa8ea3",
              "version_major": 2,
              "version_minor": 0
            },
            "text/plain": [
              "Downloading (…)lve/main/config.json:   0%|          | 0.00/666 [00:00<?, ?B/s]"
            ]
          },
          "metadata": {},
          "output_type": "display_data"
        }
      ],
      "source": [
        "# Tokenizer\n",
        "tokenizer = ElectraTokenizer.from_pretrained('google/electra-base-discriminator')"
      ]
    },
    {
      "cell_type": "markdown",
      "metadata": {
        "id": "XnZpDckC5uBz"
      },
      "source": [
        "## Data Preprocessing"
      ]
    },
    {
      "cell_type": "code",
      "execution_count": 8,
      "metadata": {
        "id": "HqcaLld34if-"
      },
      "outputs": [],
      "source": [
        "max_length = 400\n",
        "\n",
        "# Preprocessing the train data['spans']\n",
        "# For identifying the correct words of span and converting to 1 and 0 of of a boolean vector of whether the word is toxic or not. \n",
        "def create_outputs(texts,spans,max_length,tokenizer):\n",
        "    outputs = []\n",
        "    for text,span in zip(texts,spans):\n",
        "        output = np.zeros(max_length*3,dtype=np.float).reshape((max_length,3))\n",
        "        tokens = tokenizer.tokenize(text)[:max_length]\n",
        "        length = 0\n",
        "        start = True\n",
        "        for i in range(len(tokens),max_length):\n",
        "            output[i,0] = 1.0\n",
        "        for index,token in enumerate(tokens):\n",
        "            sub = False\n",
        "            if \"##\" in token:\n",
        "                sub = True\n",
        "                token = token[2:]\n",
        "            if not start:\n",
        "                next_index = text[length:].find(token)\n",
        "                if next_index == 0:\n",
        "                    sub = True\n",
        "                length += next_index\n",
        "            if length in span:\n",
        "                output[index,2] = 1.0\n",
        "                output[index,0] = 0.0\n",
        "            else:\n",
        "                output[index,1] = 1.0\n",
        "                output[index,0] = 0.0\n",
        "            length += len(token)\n",
        "            start = False\n",
        "        outputs.append(output)\n",
        "    return np.array(outputs)"
      ]
    },
    {
      "cell_type": "code",
      "execution_count": 9,
      "metadata": {
        "id": "em6crjDWohDw"
      },
      "outputs": [],
      "source": [
        "# processing the input data['texts'] using the tokenizer\n",
        "def create_inputs(texts,max_length,tokenizer):\n",
        "\n",
        "  tokens = tokenizer(texts, max_length=max_length, padding=\"max_length\", return_tensors=\"tf\",truncation=True)\n",
        "  input_length = []\n",
        "  for text in texts:\n",
        "    input_length.append(min(max_length,len(tokenizer.tokenize(text))))\n",
        "\n",
        "  tokenized_input_ids = np.array(tokens['input_ids'])\n",
        "  tokenized_token_type_ids = np.array(tokens['token_type_ids'])\n",
        "  tokenized_attention_mask = np.array(tokens['attention_mask'])\n",
        "  nparray_input_length = np.array(input_length)\n",
        "  \n",
        "  inputs = [tokenized_input_ids, tokenized_token_type_ids, tokenized_attention_mask, nparray_input_length]\n",
        "  return inputs"
      ]
    },
    {
      "cell_type": "markdown",
      "metadata": {
        "id": "Wy5CaizPkTWB"
      },
      "source": [
        "# Helper Functions"
      ]
    },
    {
      "cell_type": "markdown",
      "metadata": {
        "id": "-Py8MjVFkgvg"
      },
      "source": [
        "Function to calculate the F1 score"
      ]
    },
    {
      "cell_type": "code",
      "execution_count": 14,
      "metadata": {
        "id": "lxzu89mxbRE4"
      },
      "outputs": [],
      "source": [
        "# This class helps us to call the f1 score \n",
        "class F1Metric(callbacks.Callback):\n",
        "    def __init__(self,inputs,labels,spans,texts,test=True):\n",
        "        self.inputs = inputs\n",
        "        self.spans = spans\n",
        "        self.tokenizer = tokenizer\n",
        "        self.texts = texts\n",
        "        self.test = test\n",
        "\n",
        "    def on_epoch_end(self, epoch, logs={}):\n",
        "        preds = self.model.predict(self.inputs,verbose=0)\n",
        "        indices = createIndicesForNERModel(preds,texts,tokenizer)\n",
        "        f1 = avg_f1(indices,self.spans)\n",
        "        if self.test:\n",
        "            print()\n",
        "            print(\"test f1 = \"+str(f1))\n",
        "        else:\n",
        "            print()\n",
        "            print(\"train f1 = \"+str(f1))"
      ]
    },
    {
      "cell_type": "code",
      "execution_count": 13,
      "metadata": {
        "id": "PMw6VizYIduL"
      },
      "outputs": [],
      "source": [
        "# function to calculate the average of f1 score after each epoch\n",
        "def avg_f1(preds,trues):\n",
        "    avg_f1_total = 0.0\n",
        "    for pred,true in zip(preds,trues):\n",
        "        avg_f1_total += f1(pred,true)\n",
        "    return avg_f1_total/len(preds)"
      ]
    },
    {
      "cell_type": "code",
      "execution_count": 12,
      "metadata": {
        "id": "s4sY3smQIajX"
      },
      "outputs": [],
      "source": [
        "# function to calculate the f1 score using the given standard formula \n",
        "def f1(preds,trues):\n",
        "    if len(trues) == 0:\n",
        "        return 1. if len(preds) == 0 else 0.\n",
        "    if len(preds) == 0:\n",
        "        return 0.\n",
        "    predictions_set = set(preds)\n",
        "    gold_set = set(trues)\n",
        "    nom = 2 * len(predictions_set.intersection(gold_set))\n",
        "    denom = len(predictions_set) + len(gold_set)\n",
        "    return float(nom)/float(denom)"
      ]
    },
    {
      "attachments": {},
      "cell_type": "markdown",
      "metadata": {},
      "source": [
        "Input for Name Entity Recognition"
      ]
    },
    {
      "cell_type": "code",
      "execution_count": 11,
      "metadata": {
        "id": "qosyYQeGIFl7"
      },
      "outputs": [],
      "source": [
        "# creates the indices for the NER model for a list of predictions and true labels\n",
        "def createIndicesForNERModel(predicts,texts,tokenizer):\n",
        "    outputs = []\n",
        "    for text,pred in zip(texts,predicts):\n",
        "         indices = NERGetIndicesSingleText(pred,text,tokenizer)\n",
        "         outputs.append(indices)\n",
        "    return outputs"
      ]
    },
    {
      "cell_type": "code",
      "execution_count": 10,
      "metadata": {
        "id": "3LD0nxoII4q2"
      },
      "outputs": [],
      "source": [
        "# It is taking the tokens and convert to array of indixes of each and every text in the input data \n",
        "def NERGetIndicesSingleText(outputs,text,tokenizer):\n",
        "    outputs = tf.argmax(outputs,axis=-1)\n",
        "    tokens = tokenizer.tokenize(text)\n",
        "    index = 0\n",
        "    indexes = []\n",
        "    sub = False\n",
        "    prev = False\n",
        "    for token,output in zip(tokens,outputs):\n",
        "        if token[:2] == \"##\":\n",
        "            token = token[2:]\n",
        "            sub = True\n",
        "        else:\n",
        "            sub = False\n",
        "        temp_index = text[index:].find(token)\n",
        "        temp_start = index+temp_index\n",
        "        if output == 2 or (sub and prev and output != 0):\n",
        "            prev = True\n",
        "            indexes = indexes + list(range(temp_start,temp_start+len(token)))\n",
        "        else:\n",
        "            prev = False\n",
        "        index = temp_start+len(token)\n",
        "    return np.array(indexes)"
      ]
    },
    {
      "cell_type": "markdown",
      "metadata": {
        "id": "SF2rXZTC_aoN"
      },
      "source": [
        "## Embed Model on top of Electra Transformer"
      ]
    },
    {
      "cell_type": "code",
      "execution_count": 15,
      "metadata": {
        "id": "Nf82b1-PCHDS"
      },
      "outputs": [],
      "source": [
        "\n",
        "def CRF_BiGRU(max_input_length, base_model):\n",
        "    input_ids_layer = layers.Input(shape=(max_input_length,),name=\"encoder_input_ids\",dtype=tf.int32)\n",
        "    input_type_ids_layer = layers.Input(shape=(max_input_length,),name=\"encoder_token_type_ids\",dtype=tf.int32)\n",
        "    input_attention_mask_layer = layers.Input(shape=(max_input_length,),name=\"encoder_attention_mask\",dtype=tf.int32)\n",
        "    input_length = layers.Input(shape=(1,),name=\"length\",dtype=tf.int32)\n",
        "    base_model.trainable = True\n",
        "    # loading the base model\n",
        "    base_model = base_model(input_ids_layer,token_type_ids=input_type_ids_layer,attention_mask=input_attention_mask_layer,return_dict=True)\n",
        "    # Embedding the bidirectional GRU model \n",
        "    output = layers.Bidirectional(layers.GRU(512,return_sequences=True))(base_model.last_hidden_state)\n",
        "    # adding the dropout and dense layers\n",
        "    output = layers.Dropout(0.1)(base_model.last_hidden_state)\n",
        "    output = layers.Dense(1024,activation=\"relu\")(output)\n",
        "    output = layers.Dropout(0.1)(output)\n",
        "    output = layers.Dense(1024,activation=\"relu\")(output)\n",
        "    output = layers.Dense(3,activation=\"linear\")(output)\n",
        "    # embedding the CRF layer\n",
        "    crf = CRFLayer()\n",
        "    output = crf(inputs=[output,input_length])\n",
        "    model = models.Model(inputs=[input_ids_layer,input_type_ids_layer,input_attention_mask_layer,input_length],outputs=output)\n",
        "    # compiling the model with adam optimizer and learning rate and loss as crf.loss with metric as accuracy\n",
        "    model.compile(optimizer=optimizers.Adam(learning_rate=3e-5),loss=crf.loss,metrics=['accuracy'])\n",
        "    return model\n"
      ]
    },
    {
      "cell_type": "code",
      "execution_count": 25,
      "metadata": {
        "id": "nF4VAj9V6BUj"
      },
      "outputs": [],
      "source": [
        "def CRF_biLSTM(max_input_length,base_model):\n",
        "    input_ids_layer = layers.Input(shape=(max_input_length,),name=\"encoder_input_ids\",dtype=tf.int32)\n",
        "    input_type_ids_layer = layers.Input(shape=(max_input_length,),name=\"encoder_token_type_ids\",dtype=tf.int32)\n",
        "    input_attention_mask_layer = layers.Input(shape=(max_input_length,),name=\"encoder_attention_mask\",dtype=tf.int32)\n",
        "    input_length = layers.Input(shape=(1,),name=\"length\",dtype=tf.int32)\n",
        "    base_model.trainable = True\n",
        "    # loading the base model\n",
        "    base_model = base_model(input_ids_layer,token_type_ids=input_type_ids_layer,attention_mask=input_attention_mask_layer,return_dict=True)\n",
        "     # Embedding the bidirectional LSTM model \n",
        "    output = layers.Bidirectional(layers.LSTM(512,return_sequences=True))(base_model.last_hidden_state)\n",
        "# adding the dropout and dense layers\n",
        "    output = layers.Dropout(0.1)(base_model.last_hidden_state)\n",
        "    output = layers.Dense(1024,activation=\"relu\")(output)\n",
        "    output = layers.Dropout(0.1)(output)\n",
        "    output = layers.Dense(1024,activation=\"relu\")(output)\n",
        "    output = layers.Dense(3,activation=\"linear\")(output)\n",
        "# embedding the CRF layer\n",
        "    crf = CRFLayer()\n",
        "    output = crf(inputs=[output,input_length])\n",
        "    model = models.Model(inputs=[input_ids_layer,input_type_ids_layer,input_attention_mask_layer,input_length],outputs=output)\n",
        "    # compiling the model with adam optimizer and learning rate and loss as crf.loss with metric as accuracy\n",
        "    model.compile(optimizer=optimizers.Adam(learning_rate=3e-5),loss=crf.loss,metrics=['accuracy'])\n",
        "    return model"
      ]
    },
    {
      "cell_type": "markdown",
      "metadata": {
        "id": "95AmEVGN0HBF"
      },
      "source": [
        "## K-Fold Cross Validation"
      ]
    },
    {
      "cell_type": "code",
      "execution_count": 18,
      "metadata": {
        "colab": {
          "base_uri": "https://localhost:8080/"
        },
        "id": "3WifU-QqXEni",
        "outputId": "ec02c597-47ec-45c5-9eb5-742f0e8ee659"
      },
      "outputs": [
        {
          "name": "stderr",
          "output_type": "stream",
          "text": [
            "<ipython-input-8-737fb5d521c3>:5: DeprecationWarning: `np.float` is a deprecated alias for the builtin `float`. To silence this warning, use `float` by itself. Doing this will not modify any behavior and is safe. If you specifically wanted the numpy scalar type, use `np.float64` here.\n",
            "Deprecated in NumPy 1.20; for more details and guidance: https://numpy.org/devdocs/release/1.20.0-notes.html#deprecations\n",
            "  output = np.zeros(max_length*3,dtype=np.float).reshape((max_length,3))\n"
          ]
        }
      ],
      "source": [
        "outputs = create_outputs(texts,train_dataset['spans'],max_length,tokenizer)\n",
        "kf = KFold(n_splits=5)\n",
        "train_validation_indices = []\n",
        "for train_index,validation_index in kf.split(texts):\n",
        "    train_validation_indices.append((train_index,validation_index))"
      ]
    },
    {
      "cell_type": "markdown",
      "metadata": {
        "id": "LAKkYCz1y3sV"
      },
      "source": [
        "## Split dataset into training and validation"
      ]
    },
    {
      "cell_type": "code",
      "execution_count": 19,
      "metadata": {
        "id": "YTd_AAVCysFb"
      },
      "outputs": [],
      "source": [
        "train_index, validation_index = train_validation_indices.pop()\n",
        "x_train , x_validation = list(texts[train_index]) , list(texts[validation_index])\n",
        "y_train , y_validation = outputs[train_index] , outputs[validation_index]"
      ]
    },
    {
      "cell_type": "markdown",
      "metadata": {
        "id": "DGh8pKY52Ejn"
      },
      "source": [
        "## Apply preprocessing functions on train and Validation data"
      ]
    },
    {
      "cell_type": "code",
      "execution_count": 20,
      "metadata": {
        "id": "BOyaXA202FhA"
      },
      "outputs": [],
      "source": [
        "train_data = create_inputs(x_train,max_length,tokenizer)\n",
        "validation_data = create_inputs(x_validation,max_length,tokenizer)\n",
        "\n",
        "spans_validation = spans[validation_index]\n",
        "spans_train = spans[train_index]"
      ]
    },
    {
      "cell_type": "markdown",
      "metadata": {
        "id": "00o1TMF6GLVT"
      },
      "source": [
        "#Electra Embedded + BiGRU + CRF "
      ]
    },
    {
      "cell_type": "markdown",
      "metadata": {
        "id": "7Q0P14OjGTQP"
      },
      "source": [
        "## Bi-GRU model"
      ]
    },
    {
      "cell_type": "code",
      "execution_count": 21,
      "metadata": {
        "colab": {
          "base_uri": "https://localhost:8080/",
          "height": 375,
          "referenced_widgets": [
            "9caeee531ba44eb983510dc8bf804321",
            "b0e1b6d63c704577999f08c9474128fd",
            "b944b207d0914c7aaebf65b5d923e32f",
            "23b27c9c8e3c412eb813a38acc5fef89",
            "2c41596580bb49a58c792bf6630d38f6",
            "f777e85051084ae8abd14f0c97d9d59a",
            "d77635296be946d0a655e269ee94f670",
            "afd2b3cff4f84750949c64369e20bfcb",
            "4837ce4ed7b34819b90c1920c94be1e1",
            "af9ab7a4a10443a8b41a890fd1560353",
            "a2326087673d4fefa590477d2d563857"
          ]
        },
        "id": "XDBYKvTnGS20",
        "outputId": "b517596e-c950-4cd4-dda9-dd2bd5b1192e"
      },
      "outputs": [
        {
          "data": {
            "application/vnd.jupyter.widget-view+json": {
              "model_id": "9caeee531ba44eb983510dc8bf804321",
              "version_major": 2,
              "version_minor": 0
            },
            "text/plain": [
              "Downloading tf_model.h5:   0%|          | 0.00/438M [00:00<?, ?B/s]"
            ]
          },
          "metadata": {},
          "output_type": "display_data"
        },
        {
          "name": "stderr",
          "output_type": "stream",
          "text": [
            "Some layers from the model checkpoint at google/electra-base-discriminator were not used when initializing TFElectraModel: ['discriminator_predictions']\n",
            "- This IS expected if you are initializing TFElectraModel from the checkpoint of a model trained on another task or with another architecture (e.g. initializing a BertForSequenceClassification model from a BertForPreTraining model).\n",
            "- This IS NOT expected if you are initializing TFElectraModel from the checkpoint of a model that you expect to be exactly identical (initializing a BertForSequenceClassification model from a BertForSequenceClassification model).\n",
            "All the layers of TFElectraModel were initialized from the model checkpoint at google/electra-base-discriminator.\n",
            "If your task is similar to the task the model of the checkpoint was trained on, you can already use TFElectraModel for predictions without further training.\n",
            "WARNING:tensorflow:From /usr/local/lib/python3.10/dist-packages/tensorflow/python/autograph/impl/api.py:458: dynamic_rnn (from tensorflow.python.ops.rnn) is deprecated and will be removed in a future version.\n",
            "Instructions for updating:\n",
            "Please use `keras.layers.RNN(cell)`, which is equivalent to this API\n"
          ]
        },
        {
          "name": "stdout",
          "output_type": "stream",
          "text": [
            "Epoch 1/3\n",
            "397/397 [==============================] - 752s 2s/step - loss: 9.2198 - accuracy: 0.1115\n",
            "Epoch 2/3\n",
            "397/397 [==============================] - 707s 2s/step - loss: 7.8070 - accuracy: 0.1124\n",
            "Epoch 3/3\n",
            "397/397 [==============================] - 713s 2s/step - loss: 7.0695 - accuracy: 0.1127\n",
            "50/50 [==============================] - 70s 1s/step\n",
            "validation F1 = 0.408439\n"
          ]
        }
      ],
      "source": [
        "# Creating Model Instance for Bi-GRU\n",
        "gc.collect()\n",
        "tf.keras.backend.clear_session()\n",
        "base_model = TFElectraModel.from_pretrained('google/electra-base-discriminator')\n",
        "model_bigru = CRF_BiGRU(max_length, base_model)\n",
        "\n",
        "# Fitting Bi-GRU Model\n",
        "history = model_bigru.fit(train_data,y_train,batch_size=16,epochs=3,callbacks=[callbacks.ModelCheckpoint(\"/content/drive/MyDrive/T2_Checkpoints_Sriram/gru/checkpoints/bigru\",save_weights_only=True)])\n",
        "\n",
        "# Creating predictions by Bi-GRU\n",
        "preds_bigru = model_bigru.predict(validation_data)\n",
        "indices = createIndicesForNERModel(preds_bigru,x_validation,tokenizer)\n",
        "\n",
        "# Calculating F1\n",
        "f1_toxic_bigru = avg_f1(indices,spans_validation)\n",
        "print(\"validation F1 = %f\"%(f1_toxic_bigru))"
      ]
    },
    {
      "cell_type": "code",
      "execution_count": 22,
      "metadata": {
        "id": "Ln5auNmfFlNQ"
      },
      "outputs": [],
      "source": [
        "from IPython.display import SVG\n",
        "from keras.utils.vis_utils import model_to_dot, plot_model\n",
        "\n",
        "SVG(model_to_dot(model_bigru, show_shapes = False).create(prog = 'dot', format = 'svg'))\n",
        "plot_model(\n",
        "    model = model_bigru, show_shapes = False,\n",
        "    to_file = 'bigru_network.pdf'\n",
        ")"
      ]
    },
    {
      "cell_type": "code",
      "execution_count": 23,
      "metadata": {
        "colab": {
          "base_uri": "https://localhost:8080/"
        },
        "id": "MmU8bYogWREw",
        "outputId": "679c724d-8914-4e21-85a6-97b838dc0902"
      },
      "outputs": [
        {
          "name": "stdout",
          "output_type": "stream",
          "text": [
            "Model: \"model\"\n",
            "__________________________________________________________________________________________________\n",
            " Layer (type)                   Output Shape         Param #     Connected to                     \n",
            "==================================================================================================\n",
            " encoder_input_ids (InputLayer)  [(None, 400)]       0           []                               \n",
            "                                                                                                  \n",
            " encoder_attention_mask (InputL  [(None, 400)]       0           []                               \n",
            " ayer)                                                                                            \n",
            "                                                                                                  \n",
            " encoder_token_type_ids (InputL  [(None, 400)]       0           []                               \n",
            " ayer)                                                                                            \n",
            "                                                                                                  \n",
            " tf_electra_model (TFElectraMod  TFBaseModelOutputWi  108891648  ['encoder_input_ids[0][0]',      \n",
            " el)                            thPastAndCrossAtten               'encoder_attention_mask[0][0]', \n",
            "                                tions(last_hidden_s               'encoder_token_type_ids[0][0]'] \n",
            "                                tate=(None, 400, 76                                               \n",
            "                                8),                                                               \n",
            "                                 past_key_values=No                                               \n",
            "                                ne, hidden_states=N                                               \n",
            "                                one, attentions=Non                                               \n",
            "                                e, cross_attentions                                               \n",
            "                                =None)                                                            \n",
            "                                                                                                  \n",
            " dropout_37 (Dropout)           (None, 400, 768)     0           ['tf_electra_model[0][0]']       \n",
            "                                                                                                  \n",
            " dense (Dense)                  (None, 400, 1024)    787456      ['dropout_37[0][0]']             \n",
            "                                                                                                  \n",
            " dropout_38 (Dropout)           (None, 400, 1024)    0           ['dense[0][0]']                  \n",
            "                                                                                                  \n",
            " dense_1 (Dense)                (None, 400, 1024)    1049600     ['dropout_38[0][0]']             \n",
            "                                                                                                  \n",
            " dense_2 (Dense)                (None, 400, 3)       3075        ['dense_1[0][0]']                \n",
            "                                                                                                  \n",
            " length (InputLayer)            [(None, 1)]          0           []                               \n",
            "                                                                                                  \n",
            " crf_layer (CRFLayer)           (None, 400, 3)       9           ['dense_2[0][0]',                \n",
            "                                                                  'length[0][0]']                 \n",
            "                                                                                                  \n",
            "==================================================================================================\n",
            "Total params: 110,731,788\n",
            "Trainable params: 110,731,788\n",
            "Non-trainable params: 0\n",
            "__________________________________________________________________________________________________\n"
          ]
        }
      ],
      "source": [
        "model_bigru.summary()"
      ]
    },
    {
      "cell_type": "markdown",
      "metadata": {
        "id": "RgEBezEx6y59"
      },
      "source": [
        "# Electra Embedded + BiLSTM + CRF "
      ]
    },
    {
      "cell_type": "code",
      "execution_count": 26,
      "metadata": {
        "colab": {
          "base_uri": "https://localhost:8080/"
        },
        "id": "vIcryXvP62mF",
        "outputId": "c2a2f5a1-0dd4-4fe8-cf9c-551057a393ef"
      },
      "outputs": [
        {
          "name": "stderr",
          "output_type": "stream",
          "text": [
            "Some layers from the model checkpoint at google/electra-base-discriminator were not used when initializing TFElectraModel: ['discriminator_predictions']\n",
            "- This IS expected if you are initializing TFElectraModel from the checkpoint of a model trained on another task or with another architecture (e.g. initializing a BertForSequenceClassification model from a BertForPreTraining model).\n",
            "- This IS NOT expected if you are initializing TFElectraModel from the checkpoint of a model that you expect to be exactly identical (initializing a BertForSequenceClassification model from a BertForSequenceClassification model).\n",
            "All the layers of TFElectraModel were initialized from the model checkpoint at google/electra-base-discriminator.\n",
            "If your task is similar to the task the model of the checkpoint was trained on, you can already use TFElectraModel for predictions without further training.\n"
          ]
        },
        {
          "name": "stdout",
          "output_type": "stream",
          "text": [
            "Epoch 1/3\n",
            "397/397 [==============================] - 755s 2s/step - loss: 10.4567 - accuracy: 0.1117\n",
            "Epoch 2/3\n",
            "397/397 [==============================] - 711s 2s/step - loss: 8.3745 - accuracy: 0.1119\n",
            "Epoch 3/3\n",
            "397/397 [==============================] - 715s 2s/step - loss: 7.4398 - accuracy: 0.1125\n",
            "50/50 [==============================] - 72s 1s/step\n",
            "validation F1 = 0.394736\n"
          ]
        }
      ],
      "source": [
        "# Creating Model Instance for Bi-LSTM\n",
        "gc.collect()\n",
        "tf.keras.backend.clear_session()\n",
        "base_model = TFElectraModel.from_pretrained('google/electra-base-discriminator')\n",
        "model_bilstm = CRF_biLSTM(max_length,base_model)\n",
        "\n",
        "# Fitting Bi-LSTM Model\n",
        "model_bilstm.fit(train_data,y_train,batch_size=16,epochs= 3,callbacks=[callbacks.ModelCheckpoint(\"/content/drive/MyDrive/T2_Checkpoints_Sriram/lstm/checkpoints/bilstm\",save_weights_only=True)])\n",
        "\n",
        "# Creating predictions by Bi-LSTM \n",
        "preds_bilstm = model_bilstm.predict(validation_data)\n",
        "indices = createIndicesForNERModel(preds_bilstm,x_validation,tokenizer)\n",
        "\n",
        "# Calculating F1\n",
        "f1_toxic = avg_f1(indices,spans_validation)\n",
        "print(\"validation F1 = %f\"%(f1_toxic))"
      ]
    },
    {
      "cell_type": "code",
      "execution_count": 28,
      "metadata": {
        "colab": {
          "base_uri": "https://localhost:8080/"
        },
        "id": "u3FdEQjeCzCQ",
        "outputId": "3ee0d6e0-63c4-4299-f86c-9433fdeb558e"
      },
      "outputs": [
        {
          "name": "stdout",
          "output_type": "stream",
          "text": [
            "Model: \"model\"\n",
            "__________________________________________________________________________________________________\n",
            " Layer (type)                   Output Shape         Param #     Connected to                     \n",
            "==================================================================================================\n",
            " encoder_input_ids (InputLayer)  [(None, 400)]       0           []                               \n",
            "                                                                                                  \n",
            " encoder_attention_mask (InputL  [(None, 400)]       0           []                               \n",
            " ayer)                                                                                            \n",
            "                                                                                                  \n",
            " encoder_token_type_ids (InputL  [(None, 400)]       0           []                               \n",
            " ayer)                                                                                            \n",
            "                                                                                                  \n",
            " tf_electra_model (TFElectraMod  TFBaseModelOutputWi  108891648  ['encoder_input_ids[0][0]',      \n",
            " el)                            thPastAndCrossAtten               'encoder_attention_mask[0][0]', \n",
            "                                tions(last_hidden_s               'encoder_token_type_ids[0][0]'] \n",
            "                                tate=(None, 400, 76                                               \n",
            "                                8),                                                               \n",
            "                                 past_key_values=No                                               \n",
            "                                ne, hidden_states=N                                               \n",
            "                                one, attentions=Non                                               \n",
            "                                e, cross_attentions                                               \n",
            "                                =None)                                                            \n",
            "                                                                                                  \n",
            " dropout_37 (Dropout)           (None, 400, 768)     0           ['tf_electra_model[0][0]']       \n",
            "                                                                                                  \n",
            " dense (Dense)                  (None, 400, 1024)    787456      ['dropout_37[0][0]']             \n",
            "                                                                                                  \n",
            " dropout_38 (Dropout)           (None, 400, 1024)    0           ['dense[0][0]']                  \n",
            "                                                                                                  \n",
            " dense_1 (Dense)                (None, 400, 1024)    1049600     ['dropout_38[0][0]']             \n",
            "                                                                                                  \n",
            " dense_2 (Dense)                (None, 400, 3)       3075        ['dense_1[0][0]']                \n",
            "                                                                                                  \n",
            " length (InputLayer)            [(None, 1)]          0           []                               \n",
            "                                                                                                  \n",
            " crf_layer (CRFLayer)           (None, 400, 3)       9           ['dense_2[0][0]',                \n",
            "                                                                  'length[0][0]']                 \n",
            "                                                                                                  \n",
            "==================================================================================================\n",
            "Total params: 110,731,788\n",
            "Trainable params: 110,731,788\n",
            "Non-trainable params: 0\n",
            "__________________________________________________________________________________________________\n"
          ]
        }
      ],
      "source": [
        "from IPython.display import SVG\n",
        "from keras.utils.vis_utils import model_to_dot, plot_model\n",
        "\n",
        "SVG(model_to_dot(model_bilstm, show_shapes = False).create(prog = 'dot', format = 'svg'))\n",
        "plot_model(\n",
        "    model = model_bilstm, show_shapes = False,\n",
        "    to_file = 'bilstm_network.pdf'\n",
        ")\n",
        "model_bilstm.summary()"
      ]
    }
  ],
  "metadata": {
    "accelerator": "GPU",
    "colab": {
      "gpuType": "T4",
      "provenance": []
    },
    "gpuClass": "standard",
    "kernelspec": {
      "display_name": "Python 3",
      "name": "python3"
    },
    "language_info": {
      "codemirror_mode": {
        "name": "ipython",
        "version": 3
      },
      "file_extension": ".py",
      "mimetype": "text/x-python",
      "name": "python",
      "nbconvert_exporter": "python",
      "pygments_lexer": "ipython3",
      "version": "3.10.9"
    },
    "widgets": {
      "application/vnd.jupyter.widget-state+json": {
        "0ad277c9147d49909c8eaddda3d4f724": {
          "model_module": "@jupyter-widgets/controls",
          "model_module_version": "1.5.0",
          "model_name": "DescriptionStyleModel",
          "state": {
            "_model_module": "@jupyter-widgets/controls",
            "_model_module_version": "1.5.0",
            "_model_name": "DescriptionStyleModel",
            "_view_count": null,
            "_view_module": "@jupyter-widgets/base",
            "_view_module_version": "1.2.0",
            "_view_name": "StyleView",
            "description_width": ""
          }
        },
        "0b0db32772874c21b18df37b37fa2498": {
          "model_module": "@jupyter-widgets/controls",
          "model_module_version": "1.5.0",
          "model_name": "HTMLModel",
          "state": {
            "_dom_classes": [],
            "_model_module": "@jupyter-widgets/controls",
            "_model_module_version": "1.5.0",
            "_model_name": "HTMLModel",
            "_view_count": null,
            "_view_module": "@jupyter-widgets/controls",
            "_view_module_version": "1.5.0",
            "_view_name": "HTMLView",
            "description": "",
            "description_tooltip": null,
            "layout": "IPY_MODEL_f533b3b6be994ababd7a18ba9346efab",
            "placeholder": "​",
            "style": "IPY_MODEL_714084b8c9b9408c81373aa722410119",
            "value": " 666/666 [00:00&lt;00:00, 52.2kB/s]"
          }
        },
        "1014dddeabf348e4bc295bb3f2352d98": {
          "model_module": "@jupyter-widgets/base",
          "model_module_version": "1.2.0",
          "model_name": "LayoutModel",
          "state": {
            "_model_module": "@jupyter-widgets/base",
            "_model_module_version": "1.2.0",
            "_model_name": "LayoutModel",
            "_view_count": null,
            "_view_module": "@jupyter-widgets/base",
            "_view_module_version": "1.2.0",
            "_view_name": "LayoutView",
            "align_content": null,
            "align_items": null,
            "align_self": null,
            "border": null,
            "bottom": null,
            "display": null,
            "flex": null,
            "flex_flow": null,
            "grid_area": null,
            "grid_auto_columns": null,
            "grid_auto_flow": null,
            "grid_auto_rows": null,
            "grid_column": null,
            "grid_gap": null,
            "grid_row": null,
            "grid_template_areas": null,
            "grid_template_columns": null,
            "grid_template_rows": null,
            "height": null,
            "justify_content": null,
            "justify_items": null,
            "left": null,
            "margin": null,
            "max_height": null,
            "max_width": null,
            "min_height": null,
            "min_width": null,
            "object_fit": null,
            "object_position": null,
            "order": null,
            "overflow": null,
            "overflow_x": null,
            "overflow_y": null,
            "padding": null,
            "right": null,
            "top": null,
            "visibility": null,
            "width": null
          }
        },
        "10dc39622d8c4d8593088651d6f30bce": {
          "model_module": "@jupyter-widgets/controls",
          "model_module_version": "1.5.0",
          "model_name": "DescriptionStyleModel",
          "state": {
            "_model_module": "@jupyter-widgets/controls",
            "_model_module_version": "1.5.0",
            "_model_name": "DescriptionStyleModel",
            "_view_count": null,
            "_view_module": "@jupyter-widgets/base",
            "_view_module_version": "1.2.0",
            "_view_name": "StyleView",
            "description_width": ""
          }
        },
        "21f3ed55f70048f8b83001d06c2079df": {
          "model_module": "@jupyter-widgets/base",
          "model_module_version": "1.2.0",
          "model_name": "LayoutModel",
          "state": {
            "_model_module": "@jupyter-widgets/base",
            "_model_module_version": "1.2.0",
            "_model_name": "LayoutModel",
            "_view_count": null,
            "_view_module": "@jupyter-widgets/base",
            "_view_module_version": "1.2.0",
            "_view_name": "LayoutView",
            "align_content": null,
            "align_items": null,
            "align_self": null,
            "border": null,
            "bottom": null,
            "display": null,
            "flex": null,
            "flex_flow": null,
            "grid_area": null,
            "grid_auto_columns": null,
            "grid_auto_flow": null,
            "grid_auto_rows": null,
            "grid_column": null,
            "grid_gap": null,
            "grid_row": null,
            "grid_template_areas": null,
            "grid_template_columns": null,
            "grid_template_rows": null,
            "height": null,
            "justify_content": null,
            "justify_items": null,
            "left": null,
            "margin": null,
            "max_height": null,
            "max_width": null,
            "min_height": null,
            "min_width": null,
            "object_fit": null,
            "object_position": null,
            "order": null,
            "overflow": null,
            "overflow_x": null,
            "overflow_y": null,
            "padding": null,
            "right": null,
            "top": null,
            "visibility": null,
            "width": null
          }
        },
        "230a217cc53a4bf5ad1e3fe0481c1982": {
          "model_module": "@jupyter-widgets/base",
          "model_module_version": "1.2.0",
          "model_name": "LayoutModel",
          "state": {
            "_model_module": "@jupyter-widgets/base",
            "_model_module_version": "1.2.0",
            "_model_name": "LayoutModel",
            "_view_count": null,
            "_view_module": "@jupyter-widgets/base",
            "_view_module_version": "1.2.0",
            "_view_name": "LayoutView",
            "align_content": null,
            "align_items": null,
            "align_self": null,
            "border": null,
            "bottom": null,
            "display": null,
            "flex": null,
            "flex_flow": null,
            "grid_area": null,
            "grid_auto_columns": null,
            "grid_auto_flow": null,
            "grid_auto_rows": null,
            "grid_column": null,
            "grid_gap": null,
            "grid_row": null,
            "grid_template_areas": null,
            "grid_template_columns": null,
            "grid_template_rows": null,
            "height": null,
            "justify_content": null,
            "justify_items": null,
            "left": null,
            "margin": null,
            "max_height": null,
            "max_width": null,
            "min_height": null,
            "min_width": null,
            "object_fit": null,
            "object_position": null,
            "order": null,
            "overflow": null,
            "overflow_x": null,
            "overflow_y": null,
            "padding": null,
            "right": null,
            "top": null,
            "visibility": null,
            "width": null
          }
        },
        "23b27c9c8e3c412eb813a38acc5fef89": {
          "model_module": "@jupyter-widgets/controls",
          "model_module_version": "1.5.0",
          "model_name": "HTMLModel",
          "state": {
            "_dom_classes": [],
            "_model_module": "@jupyter-widgets/controls",
            "_model_module_version": "1.5.0",
            "_model_name": "HTMLModel",
            "_view_count": null,
            "_view_module": "@jupyter-widgets/controls",
            "_view_module_version": "1.5.0",
            "_view_name": "HTMLView",
            "description": "",
            "description_tooltip": null,
            "layout": "IPY_MODEL_af9ab7a4a10443a8b41a890fd1560353",
            "placeholder": "​",
            "style": "IPY_MODEL_a2326087673d4fefa590477d2d563857",
            "value": " 438M/438M [00:10&lt;00:00, 44.1MB/s]"
          }
        },
        "285f6fb48cf44e65ba728929d8904d7f": {
          "model_module": "@jupyter-widgets/controls",
          "model_module_version": "1.5.0",
          "model_name": "DescriptionStyleModel",
          "state": {
            "_model_module": "@jupyter-widgets/controls",
            "_model_module_version": "1.5.0",
            "_model_name": "DescriptionStyleModel",
            "_view_count": null,
            "_view_module": "@jupyter-widgets/base",
            "_view_module_version": "1.2.0",
            "_view_name": "StyleView",
            "description_width": ""
          }
        },
        "2c41596580bb49a58c792bf6630d38f6": {
          "model_module": "@jupyter-widgets/base",
          "model_module_version": "1.2.0",
          "model_name": "LayoutModel",
          "state": {
            "_model_module": "@jupyter-widgets/base",
            "_model_module_version": "1.2.0",
            "_model_name": "LayoutModel",
            "_view_count": null,
            "_view_module": "@jupyter-widgets/base",
            "_view_module_version": "1.2.0",
            "_view_name": "LayoutView",
            "align_content": null,
            "align_items": null,
            "align_self": null,
            "border": null,
            "bottom": null,
            "display": null,
            "flex": null,
            "flex_flow": null,
            "grid_area": null,
            "grid_auto_columns": null,
            "grid_auto_flow": null,
            "grid_auto_rows": null,
            "grid_column": null,
            "grid_gap": null,
            "grid_row": null,
            "grid_template_areas": null,
            "grid_template_columns": null,
            "grid_template_rows": null,
            "height": null,
            "justify_content": null,
            "justify_items": null,
            "left": null,
            "margin": null,
            "max_height": null,
            "max_width": null,
            "min_height": null,
            "min_width": null,
            "object_fit": null,
            "object_position": null,
            "order": null,
            "overflow": null,
            "overflow_x": null,
            "overflow_y": null,
            "padding": null,
            "right": null,
            "top": null,
            "visibility": null,
            "width": null
          }
        },
        "2cf47b71aef14780b50aa0ef9ea91d43": {
          "model_module": "@jupyter-widgets/base",
          "model_module_version": "1.2.0",
          "model_name": "LayoutModel",
          "state": {
            "_model_module": "@jupyter-widgets/base",
            "_model_module_version": "1.2.0",
            "_model_name": "LayoutModel",
            "_view_count": null,
            "_view_module": "@jupyter-widgets/base",
            "_view_module_version": "1.2.0",
            "_view_name": "LayoutView",
            "align_content": null,
            "align_items": null,
            "align_self": null,
            "border": null,
            "bottom": null,
            "display": null,
            "flex": null,
            "flex_flow": null,
            "grid_area": null,
            "grid_auto_columns": null,
            "grid_auto_flow": null,
            "grid_auto_rows": null,
            "grid_column": null,
            "grid_gap": null,
            "grid_row": null,
            "grid_template_areas": null,
            "grid_template_columns": null,
            "grid_template_rows": null,
            "height": null,
            "justify_content": null,
            "justify_items": null,
            "left": null,
            "margin": null,
            "max_height": null,
            "max_width": null,
            "min_height": null,
            "min_width": null,
            "object_fit": null,
            "object_position": null,
            "order": null,
            "overflow": null,
            "overflow_x": null,
            "overflow_y": null,
            "padding": null,
            "right": null,
            "top": null,
            "visibility": null,
            "width": null
          }
        },
        "341143162ac54f1299b44aa177d699fb": {
          "model_module": "@jupyter-widgets/controls",
          "model_module_version": "1.5.0",
          "model_name": "HTMLModel",
          "state": {
            "_dom_classes": [],
            "_model_module": "@jupyter-widgets/controls",
            "_model_module_version": "1.5.0",
            "_model_name": "HTMLModel",
            "_view_count": null,
            "_view_module": "@jupyter-widgets/controls",
            "_view_module_version": "1.5.0",
            "_view_name": "HTMLView",
            "description": "",
            "description_tooltip": null,
            "layout": "IPY_MODEL_1014dddeabf348e4bc295bb3f2352d98",
            "placeholder": "​",
            "style": "IPY_MODEL_ee677295e46e462f9e82f629c5c8ae62",
            "value": "Downloading (…)solve/main/vocab.txt: 100%"
          }
        },
        "3928d78e786c4f179f9c72e70ec106b1": {
          "model_module": "@jupyter-widgets/base",
          "model_module_version": "1.2.0",
          "model_name": "LayoutModel",
          "state": {
            "_model_module": "@jupyter-widgets/base",
            "_model_module_version": "1.2.0",
            "_model_name": "LayoutModel",
            "_view_count": null,
            "_view_module": "@jupyter-widgets/base",
            "_view_module_version": "1.2.0",
            "_view_name": "LayoutView",
            "align_content": null,
            "align_items": null,
            "align_self": null,
            "border": null,
            "bottom": null,
            "display": null,
            "flex": null,
            "flex_flow": null,
            "grid_area": null,
            "grid_auto_columns": null,
            "grid_auto_flow": null,
            "grid_auto_rows": null,
            "grid_column": null,
            "grid_gap": null,
            "grid_row": null,
            "grid_template_areas": null,
            "grid_template_columns": null,
            "grid_template_rows": null,
            "height": null,
            "justify_content": null,
            "justify_items": null,
            "left": null,
            "margin": null,
            "max_height": null,
            "max_width": null,
            "min_height": null,
            "min_width": null,
            "object_fit": null,
            "object_position": null,
            "order": null,
            "overflow": null,
            "overflow_x": null,
            "overflow_y": null,
            "padding": null,
            "right": null,
            "top": null,
            "visibility": null,
            "width": null
          }
        },
        "455883b523f54366ba360311045611b0": {
          "model_module": "@jupyter-widgets/controls",
          "model_module_version": "1.5.0",
          "model_name": "DescriptionStyleModel",
          "state": {
            "_model_module": "@jupyter-widgets/controls",
            "_model_module_version": "1.5.0",
            "_model_name": "DescriptionStyleModel",
            "_view_count": null,
            "_view_module": "@jupyter-widgets/base",
            "_view_module_version": "1.2.0",
            "_view_name": "StyleView",
            "description_width": ""
          }
        },
        "4837ce4ed7b34819b90c1920c94be1e1": {
          "model_module": "@jupyter-widgets/controls",
          "model_module_version": "1.5.0",
          "model_name": "ProgressStyleModel",
          "state": {
            "_model_module": "@jupyter-widgets/controls",
            "_model_module_version": "1.5.0",
            "_model_name": "ProgressStyleModel",
            "_view_count": null,
            "_view_module": "@jupyter-widgets/base",
            "_view_module_version": "1.2.0",
            "_view_name": "StyleView",
            "bar_color": null,
            "description_width": ""
          }
        },
        "4db56124a81e4755a0df44ce42a9249d": {
          "model_module": "@jupyter-widgets/controls",
          "model_module_version": "1.5.0",
          "model_name": "HTMLModel",
          "state": {
            "_dom_classes": [],
            "_model_module": "@jupyter-widgets/controls",
            "_model_module_version": "1.5.0",
            "_model_name": "HTMLModel",
            "_view_count": null,
            "_view_module": "@jupyter-widgets/controls",
            "_view_module_version": "1.5.0",
            "_view_name": "HTMLView",
            "description": "",
            "description_tooltip": null,
            "layout": "IPY_MODEL_ff47c5ddb8a345a6a38aec882d3ac1aa",
            "placeholder": "​",
            "style": "IPY_MODEL_10dc39622d8c4d8593088651d6f30bce",
            "value": "Downloading (…)lve/main/config.json: 100%"
          }
        },
        "5bb6e525c541426597f9d87c1cb4325f": {
          "model_module": "@jupyter-widgets/base",
          "model_module_version": "1.2.0",
          "model_name": "LayoutModel",
          "state": {
            "_model_module": "@jupyter-widgets/base",
            "_model_module_version": "1.2.0",
            "_model_name": "LayoutModel",
            "_view_count": null,
            "_view_module": "@jupyter-widgets/base",
            "_view_module_version": "1.2.0",
            "_view_name": "LayoutView",
            "align_content": null,
            "align_items": null,
            "align_self": null,
            "border": null,
            "bottom": null,
            "display": null,
            "flex": null,
            "flex_flow": null,
            "grid_area": null,
            "grid_auto_columns": null,
            "grid_auto_flow": null,
            "grid_auto_rows": null,
            "grid_column": null,
            "grid_gap": null,
            "grid_row": null,
            "grid_template_areas": null,
            "grid_template_columns": null,
            "grid_template_rows": null,
            "height": null,
            "justify_content": null,
            "justify_items": null,
            "left": null,
            "margin": null,
            "max_height": null,
            "max_width": null,
            "min_height": null,
            "min_width": null,
            "object_fit": null,
            "object_position": null,
            "order": null,
            "overflow": null,
            "overflow_x": null,
            "overflow_y": null,
            "padding": null,
            "right": null,
            "top": null,
            "visibility": null,
            "width": null
          }
        },
        "68750403990f435c8480ce7cb7f1006d": {
          "model_module": "@jupyter-widgets/controls",
          "model_module_version": "1.5.0",
          "model_name": "FloatProgressModel",
          "state": {
            "_dom_classes": [],
            "_model_module": "@jupyter-widgets/controls",
            "_model_module_version": "1.5.0",
            "_model_name": "FloatProgressModel",
            "_view_count": null,
            "_view_module": "@jupyter-widgets/controls",
            "_view_module_version": "1.5.0",
            "_view_name": "ProgressView",
            "bar_style": "success",
            "description": "",
            "description_tooltip": null,
            "layout": "IPY_MODEL_5bb6e525c541426597f9d87c1cb4325f",
            "max": 231508,
            "min": 0,
            "orientation": "horizontal",
            "style": "IPY_MODEL_763cee7c4b704848afbb9a567290a430",
            "value": 231508
          }
        },
        "6995d61dc180413f815684adb857389e": {
          "model_module": "@jupyter-widgets/controls",
          "model_module_version": "1.5.0",
          "model_name": "HBoxModel",
          "state": {
            "_dom_classes": [],
            "_model_module": "@jupyter-widgets/controls",
            "_model_module_version": "1.5.0",
            "_model_name": "HBoxModel",
            "_view_count": null,
            "_view_module": "@jupyter-widgets/controls",
            "_view_module_version": "1.5.0",
            "_view_name": "HBoxView",
            "box_style": "",
            "children": [
              "IPY_MODEL_341143162ac54f1299b44aa177d699fb",
              "IPY_MODEL_68750403990f435c8480ce7cb7f1006d",
              "IPY_MODEL_d8c2c0d1af914253aea8bde54b1e8b12"
            ],
            "layout": "IPY_MODEL_92023666ee7e43d785731c06691c1515"
          }
        },
        "6afcfb2757ee40cb8c36993cf351fdee": {
          "model_module": "@jupyter-widgets/controls",
          "model_module_version": "1.5.0",
          "model_name": "HTMLModel",
          "state": {
            "_dom_classes": [],
            "_model_module": "@jupyter-widgets/controls",
            "_model_module_version": "1.5.0",
            "_model_name": "HTMLModel",
            "_view_count": null,
            "_view_module": "@jupyter-widgets/controls",
            "_view_module_version": "1.5.0",
            "_view_name": "HTMLView",
            "description": "",
            "description_tooltip": null,
            "layout": "IPY_MODEL_790a1b3de7a94de8a73e9fbb03ce9edd",
            "placeholder": "​",
            "style": "IPY_MODEL_0ad277c9147d49909c8eaddda3d4f724",
            "value": " 27.0/27.0 [00:00&lt;00:00, 1.58kB/s]"
          }
        },
        "714084b8c9b9408c81373aa722410119": {
          "model_module": "@jupyter-widgets/controls",
          "model_module_version": "1.5.0",
          "model_name": "DescriptionStyleModel",
          "state": {
            "_model_module": "@jupyter-widgets/controls",
            "_model_module_version": "1.5.0",
            "_model_name": "DescriptionStyleModel",
            "_view_count": null,
            "_view_module": "@jupyter-widgets/base",
            "_view_module_version": "1.2.0",
            "_view_name": "StyleView",
            "description_width": ""
          }
        },
        "763cee7c4b704848afbb9a567290a430": {
          "model_module": "@jupyter-widgets/controls",
          "model_module_version": "1.5.0",
          "model_name": "ProgressStyleModel",
          "state": {
            "_model_module": "@jupyter-widgets/controls",
            "_model_module_version": "1.5.0",
            "_model_name": "ProgressStyleModel",
            "_view_count": null,
            "_view_module": "@jupyter-widgets/base",
            "_view_module_version": "1.2.0",
            "_view_name": "StyleView",
            "bar_color": null,
            "description_width": ""
          }
        },
        "790a1b3de7a94de8a73e9fbb03ce9edd": {
          "model_module": "@jupyter-widgets/base",
          "model_module_version": "1.2.0",
          "model_name": "LayoutModel",
          "state": {
            "_model_module": "@jupyter-widgets/base",
            "_model_module_version": "1.2.0",
            "_model_name": "LayoutModel",
            "_view_count": null,
            "_view_module": "@jupyter-widgets/base",
            "_view_module_version": "1.2.0",
            "_view_name": "LayoutView",
            "align_content": null,
            "align_items": null,
            "align_self": null,
            "border": null,
            "bottom": null,
            "display": null,
            "flex": null,
            "flex_flow": null,
            "grid_area": null,
            "grid_auto_columns": null,
            "grid_auto_flow": null,
            "grid_auto_rows": null,
            "grid_column": null,
            "grid_gap": null,
            "grid_row": null,
            "grid_template_areas": null,
            "grid_template_columns": null,
            "grid_template_rows": null,
            "height": null,
            "justify_content": null,
            "justify_items": null,
            "left": null,
            "margin": null,
            "max_height": null,
            "max_width": null,
            "min_height": null,
            "min_width": null,
            "object_fit": null,
            "object_position": null,
            "order": null,
            "overflow": null,
            "overflow_x": null,
            "overflow_y": null,
            "padding": null,
            "right": null,
            "top": null,
            "visibility": null,
            "width": null
          }
        },
        "7950d67f941b4eb8a5bc427c4065fe57": {
          "model_module": "@jupyter-widgets/controls",
          "model_module_version": "1.5.0",
          "model_name": "ProgressStyleModel",
          "state": {
            "_model_module": "@jupyter-widgets/controls",
            "_model_module_version": "1.5.0",
            "_model_name": "ProgressStyleModel",
            "_view_count": null,
            "_view_module": "@jupyter-widgets/base",
            "_view_module_version": "1.2.0",
            "_view_name": "StyleView",
            "bar_color": null,
            "description_width": ""
          }
        },
        "92023666ee7e43d785731c06691c1515": {
          "model_module": "@jupyter-widgets/base",
          "model_module_version": "1.2.0",
          "model_name": "LayoutModel",
          "state": {
            "_model_module": "@jupyter-widgets/base",
            "_model_module_version": "1.2.0",
            "_model_name": "LayoutModel",
            "_view_count": null,
            "_view_module": "@jupyter-widgets/base",
            "_view_module_version": "1.2.0",
            "_view_name": "LayoutView",
            "align_content": null,
            "align_items": null,
            "align_self": null,
            "border": null,
            "bottom": null,
            "display": null,
            "flex": null,
            "flex_flow": null,
            "grid_area": null,
            "grid_auto_columns": null,
            "grid_auto_flow": null,
            "grid_auto_rows": null,
            "grid_column": null,
            "grid_gap": null,
            "grid_row": null,
            "grid_template_areas": null,
            "grid_template_columns": null,
            "grid_template_rows": null,
            "height": null,
            "justify_content": null,
            "justify_items": null,
            "left": null,
            "margin": null,
            "max_height": null,
            "max_width": null,
            "min_height": null,
            "min_width": null,
            "object_fit": null,
            "object_position": null,
            "order": null,
            "overflow": null,
            "overflow_x": null,
            "overflow_y": null,
            "padding": null,
            "right": null,
            "top": null,
            "visibility": null,
            "width": null
          }
        },
        "9c7b2aeeb3084774bab50d8abd062fba": {
          "model_module": "@jupyter-widgets/controls",
          "model_module_version": "1.5.0",
          "model_name": "FloatProgressModel",
          "state": {
            "_dom_classes": [],
            "_model_module": "@jupyter-widgets/controls",
            "_model_module_version": "1.5.0",
            "_model_name": "FloatProgressModel",
            "_view_count": null,
            "_view_module": "@jupyter-widgets/controls",
            "_view_module_version": "1.5.0",
            "_view_name": "ProgressView",
            "bar_style": "success",
            "description": "",
            "description_tooltip": null,
            "layout": "IPY_MODEL_ec916531d6f94c849e5ff44d49daa1cd",
            "max": 27,
            "min": 0,
            "orientation": "horizontal",
            "style": "IPY_MODEL_7950d67f941b4eb8a5bc427c4065fe57",
            "value": 27
          }
        },
        "9caeee531ba44eb983510dc8bf804321": {
          "model_module": "@jupyter-widgets/controls",
          "model_module_version": "1.5.0",
          "model_name": "HBoxModel",
          "state": {
            "_dom_classes": [],
            "_model_module": "@jupyter-widgets/controls",
            "_model_module_version": "1.5.0",
            "_model_name": "HBoxModel",
            "_view_count": null,
            "_view_module": "@jupyter-widgets/controls",
            "_view_module_version": "1.5.0",
            "_view_name": "HBoxView",
            "box_style": "",
            "children": [
              "IPY_MODEL_b0e1b6d63c704577999f08c9474128fd",
              "IPY_MODEL_b944b207d0914c7aaebf65b5d923e32f",
              "IPY_MODEL_23b27c9c8e3c412eb813a38acc5fef89"
            ],
            "layout": "IPY_MODEL_2c41596580bb49a58c792bf6630d38f6"
          }
        },
        "a2326087673d4fefa590477d2d563857": {
          "model_module": "@jupyter-widgets/controls",
          "model_module_version": "1.5.0",
          "model_name": "DescriptionStyleModel",
          "state": {
            "_model_module": "@jupyter-widgets/controls",
            "_model_module_version": "1.5.0",
            "_model_name": "DescriptionStyleModel",
            "_view_count": null,
            "_view_module": "@jupyter-widgets/base",
            "_view_module_version": "1.2.0",
            "_view_name": "StyleView",
            "description_width": ""
          }
        },
        "a755b205d09b45378a1fe882d3a105b0": {
          "model_module": "@jupyter-widgets/controls",
          "model_module_version": "1.5.0",
          "model_name": "HTMLModel",
          "state": {
            "_dom_classes": [],
            "_model_module": "@jupyter-widgets/controls",
            "_model_module_version": "1.5.0",
            "_model_name": "HTMLModel",
            "_view_count": null,
            "_view_module": "@jupyter-widgets/controls",
            "_view_module_version": "1.5.0",
            "_view_name": "HTMLView",
            "description": "",
            "description_tooltip": null,
            "layout": "IPY_MODEL_230a217cc53a4bf5ad1e3fe0481c1982",
            "placeholder": "​",
            "style": "IPY_MODEL_455883b523f54366ba360311045611b0",
            "value": "Downloading (…)okenizer_config.json: 100%"
          }
        },
        "af4fe33d23264864949ac277bf6efce2": {
          "model_module": "@jupyter-widgets/controls",
          "model_module_version": "1.5.0",
          "model_name": "FloatProgressModel",
          "state": {
            "_dom_classes": [],
            "_model_module": "@jupyter-widgets/controls",
            "_model_module_version": "1.5.0",
            "_model_name": "FloatProgressModel",
            "_view_count": null,
            "_view_module": "@jupyter-widgets/controls",
            "_view_module_version": "1.5.0",
            "_view_name": "ProgressView",
            "bar_style": "success",
            "description": "",
            "description_tooltip": null,
            "layout": "IPY_MODEL_21f3ed55f70048f8b83001d06c2079df",
            "max": 666,
            "min": 0,
            "orientation": "horizontal",
            "style": "IPY_MODEL_effac7312a324224ae5922f3aace58ae",
            "value": 666
          }
        },
        "af9ab7a4a10443a8b41a890fd1560353": {
          "model_module": "@jupyter-widgets/base",
          "model_module_version": "1.2.0",
          "model_name": "LayoutModel",
          "state": {
            "_model_module": "@jupyter-widgets/base",
            "_model_module_version": "1.2.0",
            "_model_name": "LayoutModel",
            "_view_count": null,
            "_view_module": "@jupyter-widgets/base",
            "_view_module_version": "1.2.0",
            "_view_name": "LayoutView",
            "align_content": null,
            "align_items": null,
            "align_self": null,
            "border": null,
            "bottom": null,
            "display": null,
            "flex": null,
            "flex_flow": null,
            "grid_area": null,
            "grid_auto_columns": null,
            "grid_auto_flow": null,
            "grid_auto_rows": null,
            "grid_column": null,
            "grid_gap": null,
            "grid_row": null,
            "grid_template_areas": null,
            "grid_template_columns": null,
            "grid_template_rows": null,
            "height": null,
            "justify_content": null,
            "justify_items": null,
            "left": null,
            "margin": null,
            "max_height": null,
            "max_width": null,
            "min_height": null,
            "min_width": null,
            "object_fit": null,
            "object_position": null,
            "order": null,
            "overflow": null,
            "overflow_x": null,
            "overflow_y": null,
            "padding": null,
            "right": null,
            "top": null,
            "visibility": null,
            "width": null
          }
        },
        "afd2b3cff4f84750949c64369e20bfcb": {
          "model_module": "@jupyter-widgets/base",
          "model_module_version": "1.2.0",
          "model_name": "LayoutModel",
          "state": {
            "_model_module": "@jupyter-widgets/base",
            "_model_module_version": "1.2.0",
            "_model_name": "LayoutModel",
            "_view_count": null,
            "_view_module": "@jupyter-widgets/base",
            "_view_module_version": "1.2.0",
            "_view_name": "LayoutView",
            "align_content": null,
            "align_items": null,
            "align_self": null,
            "border": null,
            "bottom": null,
            "display": null,
            "flex": null,
            "flex_flow": null,
            "grid_area": null,
            "grid_auto_columns": null,
            "grid_auto_flow": null,
            "grid_auto_rows": null,
            "grid_column": null,
            "grid_gap": null,
            "grid_row": null,
            "grid_template_areas": null,
            "grid_template_columns": null,
            "grid_template_rows": null,
            "height": null,
            "justify_content": null,
            "justify_items": null,
            "left": null,
            "margin": null,
            "max_height": null,
            "max_width": null,
            "min_height": null,
            "min_width": null,
            "object_fit": null,
            "object_position": null,
            "order": null,
            "overflow": null,
            "overflow_x": null,
            "overflow_y": null,
            "padding": null,
            "right": null,
            "top": null,
            "visibility": null,
            "width": null
          }
        },
        "b0e1b6d63c704577999f08c9474128fd": {
          "model_module": "@jupyter-widgets/controls",
          "model_module_version": "1.5.0",
          "model_name": "HTMLModel",
          "state": {
            "_dom_classes": [],
            "_model_module": "@jupyter-widgets/controls",
            "_model_module_version": "1.5.0",
            "_model_name": "HTMLModel",
            "_view_count": null,
            "_view_module": "@jupyter-widgets/controls",
            "_view_module_version": "1.5.0",
            "_view_name": "HTMLView",
            "description": "",
            "description_tooltip": null,
            "layout": "IPY_MODEL_f777e85051084ae8abd14f0c97d9d59a",
            "placeholder": "​",
            "style": "IPY_MODEL_d77635296be946d0a655e269ee94f670",
            "value": "Downloading tf_model.h5: 100%"
          }
        },
        "b3e68f86d0a546759d1f3ea54b379c2d": {
          "model_module": "@jupyter-widgets/controls",
          "model_module_version": "1.5.0",
          "model_name": "HBoxModel",
          "state": {
            "_dom_classes": [],
            "_model_module": "@jupyter-widgets/controls",
            "_model_module_version": "1.5.0",
            "_model_name": "HBoxModel",
            "_view_count": null,
            "_view_module": "@jupyter-widgets/controls",
            "_view_module_version": "1.5.0",
            "_view_name": "HBoxView",
            "box_style": "",
            "children": [
              "IPY_MODEL_a755b205d09b45378a1fe882d3a105b0",
              "IPY_MODEL_9c7b2aeeb3084774bab50d8abd062fba",
              "IPY_MODEL_6afcfb2757ee40cb8c36993cf351fdee"
            ],
            "layout": "IPY_MODEL_d5b2191b4bc54975ae2b410b6a73b110"
          }
        },
        "b944b207d0914c7aaebf65b5d923e32f": {
          "model_module": "@jupyter-widgets/controls",
          "model_module_version": "1.5.0",
          "model_name": "FloatProgressModel",
          "state": {
            "_dom_classes": [],
            "_model_module": "@jupyter-widgets/controls",
            "_model_module_version": "1.5.0",
            "_model_name": "FloatProgressModel",
            "_view_count": null,
            "_view_module": "@jupyter-widgets/controls",
            "_view_module_version": "1.5.0",
            "_view_name": "ProgressView",
            "bar_style": "success",
            "description": "",
            "description_tooltip": null,
            "layout": "IPY_MODEL_afd2b3cff4f84750949c64369e20bfcb",
            "max": 438200172,
            "min": 0,
            "orientation": "horizontal",
            "style": "IPY_MODEL_4837ce4ed7b34819b90c1920c94be1e1",
            "value": 438200172
          }
        },
        "d5b2191b4bc54975ae2b410b6a73b110": {
          "model_module": "@jupyter-widgets/base",
          "model_module_version": "1.2.0",
          "model_name": "LayoutModel",
          "state": {
            "_model_module": "@jupyter-widgets/base",
            "_model_module_version": "1.2.0",
            "_model_name": "LayoutModel",
            "_view_count": null,
            "_view_module": "@jupyter-widgets/base",
            "_view_module_version": "1.2.0",
            "_view_name": "LayoutView",
            "align_content": null,
            "align_items": null,
            "align_self": null,
            "border": null,
            "bottom": null,
            "display": null,
            "flex": null,
            "flex_flow": null,
            "grid_area": null,
            "grid_auto_columns": null,
            "grid_auto_flow": null,
            "grid_auto_rows": null,
            "grid_column": null,
            "grid_gap": null,
            "grid_row": null,
            "grid_template_areas": null,
            "grid_template_columns": null,
            "grid_template_rows": null,
            "height": null,
            "justify_content": null,
            "justify_items": null,
            "left": null,
            "margin": null,
            "max_height": null,
            "max_width": null,
            "min_height": null,
            "min_width": null,
            "object_fit": null,
            "object_position": null,
            "order": null,
            "overflow": null,
            "overflow_x": null,
            "overflow_y": null,
            "padding": null,
            "right": null,
            "top": null,
            "visibility": null,
            "width": null
          }
        },
        "d77635296be946d0a655e269ee94f670": {
          "model_module": "@jupyter-widgets/controls",
          "model_module_version": "1.5.0",
          "model_name": "DescriptionStyleModel",
          "state": {
            "_model_module": "@jupyter-widgets/controls",
            "_model_module_version": "1.5.0",
            "_model_name": "DescriptionStyleModel",
            "_view_count": null,
            "_view_module": "@jupyter-widgets/base",
            "_view_module_version": "1.2.0",
            "_view_name": "StyleView",
            "description_width": ""
          }
        },
        "d8c2c0d1af914253aea8bde54b1e8b12": {
          "model_module": "@jupyter-widgets/controls",
          "model_module_version": "1.5.0",
          "model_name": "HTMLModel",
          "state": {
            "_dom_classes": [],
            "_model_module": "@jupyter-widgets/controls",
            "_model_module_version": "1.5.0",
            "_model_name": "HTMLModel",
            "_view_count": null,
            "_view_module": "@jupyter-widgets/controls",
            "_view_module_version": "1.5.0",
            "_view_name": "HTMLView",
            "description": "",
            "description_tooltip": null,
            "layout": "IPY_MODEL_3928d78e786c4f179f9c72e70ec106b1",
            "placeholder": "​",
            "style": "IPY_MODEL_285f6fb48cf44e65ba728929d8904d7f",
            "value": " 232k/232k [00:00&lt;00:00, 3.12MB/s]"
          }
        },
        "e56bc846df5c4446bf95f980ecfa8ea3": {
          "model_module": "@jupyter-widgets/controls",
          "model_module_version": "1.5.0",
          "model_name": "HBoxModel",
          "state": {
            "_dom_classes": [],
            "_model_module": "@jupyter-widgets/controls",
            "_model_module_version": "1.5.0",
            "_model_name": "HBoxModel",
            "_view_count": null,
            "_view_module": "@jupyter-widgets/controls",
            "_view_module_version": "1.5.0",
            "_view_name": "HBoxView",
            "box_style": "",
            "children": [
              "IPY_MODEL_4db56124a81e4755a0df44ce42a9249d",
              "IPY_MODEL_af4fe33d23264864949ac277bf6efce2",
              "IPY_MODEL_0b0db32772874c21b18df37b37fa2498"
            ],
            "layout": "IPY_MODEL_2cf47b71aef14780b50aa0ef9ea91d43"
          }
        },
        "ec916531d6f94c849e5ff44d49daa1cd": {
          "model_module": "@jupyter-widgets/base",
          "model_module_version": "1.2.0",
          "model_name": "LayoutModel",
          "state": {
            "_model_module": "@jupyter-widgets/base",
            "_model_module_version": "1.2.0",
            "_model_name": "LayoutModel",
            "_view_count": null,
            "_view_module": "@jupyter-widgets/base",
            "_view_module_version": "1.2.0",
            "_view_name": "LayoutView",
            "align_content": null,
            "align_items": null,
            "align_self": null,
            "border": null,
            "bottom": null,
            "display": null,
            "flex": null,
            "flex_flow": null,
            "grid_area": null,
            "grid_auto_columns": null,
            "grid_auto_flow": null,
            "grid_auto_rows": null,
            "grid_column": null,
            "grid_gap": null,
            "grid_row": null,
            "grid_template_areas": null,
            "grid_template_columns": null,
            "grid_template_rows": null,
            "height": null,
            "justify_content": null,
            "justify_items": null,
            "left": null,
            "margin": null,
            "max_height": null,
            "max_width": null,
            "min_height": null,
            "min_width": null,
            "object_fit": null,
            "object_position": null,
            "order": null,
            "overflow": null,
            "overflow_x": null,
            "overflow_y": null,
            "padding": null,
            "right": null,
            "top": null,
            "visibility": null,
            "width": null
          }
        },
        "ee677295e46e462f9e82f629c5c8ae62": {
          "model_module": "@jupyter-widgets/controls",
          "model_module_version": "1.5.0",
          "model_name": "DescriptionStyleModel",
          "state": {
            "_model_module": "@jupyter-widgets/controls",
            "_model_module_version": "1.5.0",
            "_model_name": "DescriptionStyleModel",
            "_view_count": null,
            "_view_module": "@jupyter-widgets/base",
            "_view_module_version": "1.2.0",
            "_view_name": "StyleView",
            "description_width": ""
          }
        },
        "effac7312a324224ae5922f3aace58ae": {
          "model_module": "@jupyter-widgets/controls",
          "model_module_version": "1.5.0",
          "model_name": "ProgressStyleModel",
          "state": {
            "_model_module": "@jupyter-widgets/controls",
            "_model_module_version": "1.5.0",
            "_model_name": "ProgressStyleModel",
            "_view_count": null,
            "_view_module": "@jupyter-widgets/base",
            "_view_module_version": "1.2.0",
            "_view_name": "StyleView",
            "bar_color": null,
            "description_width": ""
          }
        },
        "f533b3b6be994ababd7a18ba9346efab": {
          "model_module": "@jupyter-widgets/base",
          "model_module_version": "1.2.0",
          "model_name": "LayoutModel",
          "state": {
            "_model_module": "@jupyter-widgets/base",
            "_model_module_version": "1.2.0",
            "_model_name": "LayoutModel",
            "_view_count": null,
            "_view_module": "@jupyter-widgets/base",
            "_view_module_version": "1.2.0",
            "_view_name": "LayoutView",
            "align_content": null,
            "align_items": null,
            "align_self": null,
            "border": null,
            "bottom": null,
            "display": null,
            "flex": null,
            "flex_flow": null,
            "grid_area": null,
            "grid_auto_columns": null,
            "grid_auto_flow": null,
            "grid_auto_rows": null,
            "grid_column": null,
            "grid_gap": null,
            "grid_row": null,
            "grid_template_areas": null,
            "grid_template_columns": null,
            "grid_template_rows": null,
            "height": null,
            "justify_content": null,
            "justify_items": null,
            "left": null,
            "margin": null,
            "max_height": null,
            "max_width": null,
            "min_height": null,
            "min_width": null,
            "object_fit": null,
            "object_position": null,
            "order": null,
            "overflow": null,
            "overflow_x": null,
            "overflow_y": null,
            "padding": null,
            "right": null,
            "top": null,
            "visibility": null,
            "width": null
          }
        },
        "f777e85051084ae8abd14f0c97d9d59a": {
          "model_module": "@jupyter-widgets/base",
          "model_module_version": "1.2.0",
          "model_name": "LayoutModel",
          "state": {
            "_model_module": "@jupyter-widgets/base",
            "_model_module_version": "1.2.0",
            "_model_name": "LayoutModel",
            "_view_count": null,
            "_view_module": "@jupyter-widgets/base",
            "_view_module_version": "1.2.0",
            "_view_name": "LayoutView",
            "align_content": null,
            "align_items": null,
            "align_self": null,
            "border": null,
            "bottom": null,
            "display": null,
            "flex": null,
            "flex_flow": null,
            "grid_area": null,
            "grid_auto_columns": null,
            "grid_auto_flow": null,
            "grid_auto_rows": null,
            "grid_column": null,
            "grid_gap": null,
            "grid_row": null,
            "grid_template_areas": null,
            "grid_template_columns": null,
            "grid_template_rows": null,
            "height": null,
            "justify_content": null,
            "justify_items": null,
            "left": null,
            "margin": null,
            "max_height": null,
            "max_width": null,
            "min_height": null,
            "min_width": null,
            "object_fit": null,
            "object_position": null,
            "order": null,
            "overflow": null,
            "overflow_x": null,
            "overflow_y": null,
            "padding": null,
            "right": null,
            "top": null,
            "visibility": null,
            "width": null
          }
        },
        "ff47c5ddb8a345a6a38aec882d3ac1aa": {
          "model_module": "@jupyter-widgets/base",
          "model_module_version": "1.2.0",
          "model_name": "LayoutModel",
          "state": {
            "_model_module": "@jupyter-widgets/base",
            "_model_module_version": "1.2.0",
            "_model_name": "LayoutModel",
            "_view_count": null,
            "_view_module": "@jupyter-widgets/base",
            "_view_module_version": "1.2.0",
            "_view_name": "LayoutView",
            "align_content": null,
            "align_items": null,
            "align_self": null,
            "border": null,
            "bottom": null,
            "display": null,
            "flex": null,
            "flex_flow": null,
            "grid_area": null,
            "grid_auto_columns": null,
            "grid_auto_flow": null,
            "grid_auto_rows": null,
            "grid_column": null,
            "grid_gap": null,
            "grid_row": null,
            "grid_template_areas": null,
            "grid_template_columns": null,
            "grid_template_rows": null,
            "height": null,
            "justify_content": null,
            "justify_items": null,
            "left": null,
            "margin": null,
            "max_height": null,
            "max_width": null,
            "min_height": null,
            "min_width": null,
            "object_fit": null,
            "object_position": null,
            "order": null,
            "overflow": null,
            "overflow_x": null,
            "overflow_y": null,
            "padding": null,
            "right": null,
            "top": null,
            "visibility": null,
            "width": null
          }
        }
      }
    }
  },
  "nbformat": 4,
  "nbformat_minor": 0
}
